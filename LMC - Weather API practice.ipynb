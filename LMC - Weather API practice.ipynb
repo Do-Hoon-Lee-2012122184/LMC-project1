{
 "cells": [
  {
   "cell_type": "code",
   "execution_count": 1,
   "metadata": {},
   "outputs": [
    {
     "name": "stdout",
     "output_type": "stream",
     "text": [
      "200\n"
     ]
    }
   ],
   "source": [
    "from urllib.parse import urlencode, unquote, quote_plus \n",
    "from bs4 import BeautifulSoup\n",
    "import pandas as pd\n",
    "import datetime\n",
    "import requests\n",
    "import urlopen\n",
    "import urllib\n",
    "import json"
   ]
  },
  {
   "cell_type": "raw",
   "metadata": {},
   "source": [
    "wQiv6HzoqvMh%2FrW4oXvcBoEr7eC4CAxIxjRO9vfCsYRMC7PRVTcrZsATSrbI%2FFhaOW98Ymq07Ql2UYyMOCaNbw%3D%3D"
   ]
  },
  {
   "cell_type": "code",
   "execution_count": 4,
   "metadata": {
    "scrolled": true
   },
   "outputs": [
    {
     "ename": "NameError",
     "evalue": "name 'soup' is not defined",
     "output_type": "error",
     "traceback": [
      "\u001b[1;31m---------------------------------------------------------------------------\u001b[0m",
      "\u001b[1;31mNameError\u001b[0m                                 Traceback (most recent call last)",
      "\u001b[1;32m<ipython-input-4-b3573f26d5a4>\u001b[0m in \u001b[0;36m<module>\u001b[1;34m\u001b[0m\n\u001b[0;32m     70\u001b[0m     \u001b[0mdisplay\u001b[0m\u001b[1;33m(\u001b[0m\u001b[0mvalue_list\u001b[0m\u001b[1;33m)\u001b[0m\u001b[1;33m\u001b[0m\u001b[1;33m\u001b[0m\u001b[0m\n\u001b[0;32m     71\u001b[0m \u001b[1;33m\u001b[0m\u001b[0m\n\u001b[1;32m---> 72\u001b[1;33m \u001b[0mweather\u001b[0m \u001b[1;33m=\u001b[0m \u001b[0mget_weather\u001b[0m\u001b[1;33m(\u001b[0m\u001b[1;33m)\u001b[0m\u001b[1;33m\u001b[0m\u001b[1;33m\u001b[0m\u001b[0m\n\u001b[0m\u001b[0;32m     73\u001b[0m \u001b[1;31m# print(weather)\u001b[0m\u001b[1;33m\u001b[0m\u001b[1;33m\u001b[0m\u001b[1;33m\u001b[0m\u001b[0m\n\u001b[0;32m     74\u001b[0m \u001b[1;33m\u001b[0m\u001b[0m\n",
      "\u001b[1;32m<ipython-input-4-b3573f26d5a4>\u001b[0m in \u001b[0;36mget_weather\u001b[1;34m()\u001b[0m\n\u001b[0;32m     60\u001b[0m \u001b[1;31m#     display(soup)\u001b[0m\u001b[1;33m\u001b[0m\u001b[1;33m\u001b[0m\u001b[1;33m\u001b[0m\u001b[0m\n\u001b[0;32m     61\u001b[0m \u001b[1;31m#     display(box)\u001b[0m\u001b[1;33m\u001b[0m\u001b[1;33m\u001b[0m\u001b[1;33m\u001b[0m\u001b[0m\n\u001b[1;32m---> 62\u001b[1;33m     \u001b[0mget_info\u001b[0m\u001b[1;33m(\u001b[0m\u001b[0mbox\u001b[0m\u001b[1;33m)\u001b[0m\u001b[1;33m\u001b[0m\u001b[1;33m\u001b[0m\u001b[0m\n\u001b[0m\u001b[0;32m     63\u001b[0m \u001b[1;33m\u001b[0m\u001b[0m\n\u001b[0;32m     64\u001b[0m \u001b[1;32mdef\u001b[0m \u001b[0mget_info\u001b[0m\u001b[1;33m(\u001b[0m\u001b[0mbox\u001b[0m\u001b[1;33m)\u001b[0m\u001b[1;33m:\u001b[0m\u001b[1;33m\u001b[0m\u001b[1;33m\u001b[0m\u001b[0m\n",
      "\u001b[1;32m<ipython-input-4-b3573f26d5a4>\u001b[0m in \u001b[0;36mget_info\u001b[1;34m(box)\u001b[0m\n\u001b[0;32m     65\u001b[0m     \u001b[1;32mfor\u001b[0m \u001b[0mb\u001b[0m \u001b[1;32min\u001b[0m \u001b[0mbox\u001b[0m\u001b[1;33m:\u001b[0m\u001b[1;33m\u001b[0m\u001b[1;33m\u001b[0m\u001b[0m\n\u001b[0;32m     66\u001b[0m         \u001b[0mprint\u001b[0m\u001b[1;33m(\u001b[0m\u001b[0mb\u001b[0m\u001b[1;33m)\u001b[0m\u001b[1;33m\u001b[0m\u001b[1;33m\u001b[0m\u001b[0m\n\u001b[1;32m---> 67\u001b[1;33m     \u001b[0mcategory_list\u001b[0m \u001b[1;33m=\u001b[0m \u001b[0msoup\u001b[0m\u001b[1;33m.\u001b[0m\u001b[0mselect\u001b[0m\u001b[1;33m(\u001b[0m\u001b[1;34m'category'\u001b[0m\u001b[1;33m)\u001b[0m\u001b[1;33m\u001b[0m\u001b[1;33m\u001b[0m\u001b[0m\n\u001b[0m\u001b[0;32m     68\u001b[0m     \u001b[0mvalue_list\u001b[0m \u001b[1;33m=\u001b[0m \u001b[0msoup\u001b[0m\u001b[1;33m.\u001b[0m\u001b[0mselect\u001b[0m\u001b[1;33m(\u001b[0m\u001b[1;34m'fcstvalue'\u001b[0m\u001b[1;33m)\u001b[0m\u001b[1;33m\u001b[0m\u001b[1;33m\u001b[0m\u001b[0m\n\u001b[0;32m     69\u001b[0m     \u001b[0mdisplay\u001b[0m\u001b[1;33m(\u001b[0m\u001b[0mcategory_list\u001b[0m\u001b[1;33m)\u001b[0m\u001b[1;33m\u001b[0m\u001b[1;33m\u001b[0m\u001b[0m\n",
      "\u001b[1;31mNameError\u001b[0m: name 'soup' is not defined"
     ]
    }
   ],
   "source": [
    "def get_sky_info(data): \n",
    "    try: \n",
    "        weather_info = data['response']['body']['items']['item'] \n",
    "        if weather_info[3]['category'] == 'SKY': \n",
    "            return weather_info[3]['fcstValue'] \n",
    "        elif weather_info[5]['category'] == 'SKY': \n",
    "            return weather_info[5]['fcstValue'] \n",
    "    except KeyError: \n",
    "        print('API 호출 실패!') \n",
    "            \n",
    "def get_base_time(hour): \n",
    "    hour = int(hour) \n",
    "    \n",
    "    if hour < 3: \n",
    "        temp_hour = '20' \n",
    "    elif hour < 6: \n",
    "        temp_hour = '23' \n",
    "    elif hour < 9: \n",
    "        temp_hour = '02' \n",
    "    elif hour < 12: \n",
    "        temp_hour = '05' \n",
    "    elif hour < 15: \n",
    "        temp_hour = '08' \n",
    "    elif hour < 18: \n",
    "        temp_hour = '11' \n",
    "    elif hour < 21: \n",
    "        temp_hour = '14' \n",
    "    elif hour < 24: \n",
    "        temp_hour = '17' \n",
    "    return temp_hour + '00' \n",
    "    \n",
    "def get_weather(): \n",
    "    service_key = 'wQiv6HzoqvMh%2FrW4oXvcBoEr7eC4CAxIxjRO9vfC'\\\n",
    "    'sYRMC7PRVTcrZsATSrbI%2FFhaOW98Ymq07Ql2UYyMOCaNbw%3D%3D'\n",
    "    now = datetime.date.today() \n",
    "    now_date = now.strftime('%Y%m%d') \n",
    "    now_hour = int(now.strftime('%H')) \n",
    "    if now_hour < 6: \n",
    "        base_date = str(int(now_date) - 1) \n",
    "    else: \n",
    "        base_date = now_date \n",
    "        \n",
    "    base_hour = get_base_time(now_hour) \n",
    "    num_of_rows = '3' \n",
    "    page_no = '1'\n",
    "    base_date = base_date \n",
    "    base_time = base_hour \n",
    "    nx = str(60) \n",
    "    ny = str(125) \n",
    "    _type = 'XML' \n",
    "    \n",
    "    api_url = 'http://apis.data.go.kr/1360000/VilageFcstInfoService/getVilageFcst?'\\\n",
    "    'serviceKey={}&pageNo={}&numOfRows={}&dataType={}&base_date={}&base_time={}&nx={}&ny={}'\\\n",
    "    .format(service_key, page_no, num_of_rows, _type, base_date, base_time, nx, ny) \n",
    "    \n",
    "    req = requests.get(api_url)\n",
    "    html =req.text\n",
    "    soup = BeautifulSoup(html, 'html.parser')\n",
    "    box = soup.select('item')\n",
    "#     display(soup)\n",
    "#     display(box)\n",
    "    get_info(box)\n",
    "    \n",
    "def get_info(box):\n",
    "    for b in box:\n",
    "        print(b)\n",
    "    category_list = soup.select('category')\n",
    "    value_list = soup.select('fcstvalue')\n",
    "    display(category_list)\n",
    "    display(value_list)\n",
    "\n",
    "weather = get_weather() \n",
    "# print(weather)\n",
    "\n",
    "# 출처: https://oneshottenkill.tistory.com/557 [잘하고 싶은 백엔드 개발자]"
   ]
  },
  {
   "cell_type": "code",
   "execution_count": 3,
   "metadata": {},
   "outputs": [
    {
     "data": {
      "text/plain": [
       "'20210408'"
      ]
     },
     "execution_count": 3,
     "metadata": {},
     "output_type": "execute_result"
    }
   ],
   "source": [
    "t = datetime.date.today().strftime('%Y%m%d') \n",
    "t"
   ]
  }
 ],
 "metadata": {
  "kernelspec": {
   "display_name": "Python 3",
   "language": "python",
   "name": "python3"
  },
  "language_info": {
   "codemirror_mode": {
    "name": "ipython",
    "version": 3
   },
   "file_extension": ".py",
   "mimetype": "text/x-python",
   "name": "python",
   "nbconvert_exporter": "python",
   "pygments_lexer": "ipython3",
   "version": "3.8.5"
  }
 },
 "nbformat": 4,
 "nbformat_minor": 4
}
